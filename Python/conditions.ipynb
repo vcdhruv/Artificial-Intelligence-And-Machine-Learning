{
 "cells": [
  {
   "cell_type": "code",
   "execution_count": 3,
   "id": "7c23fb4e-ae6d-4455-a872-63d962a3a6a0",
   "metadata": {},
   "outputs": [],
   "source": [
    "a = 11"
   ]
  },
  {
   "cell_type": "code",
   "execution_count": 4,
   "id": "91f98c59-c4c1-45c3-b19e-04979fcf8387",
   "metadata": {},
   "outputs": [
    {
     "name": "stdout",
     "output_type": "stream",
     "text": [
      "yes a is greater then 10\n"
     ]
    }
   ],
   "source": [
    "if a > 10:\n",
    "    print(\"yes a is greater then 10\")"
   ]
  },
  {
   "cell_type": "code",
   "execution_count": 5,
   "id": "5404e9ed-b537-441b-b6c8-25c657ede527",
   "metadata": {},
   "outputs": [
    {
     "name": "stdout",
     "output_type": "stream",
     "text": [
      "no b is equal to 20\n"
     ]
    }
   ],
   "source": [
    "b = 20\n",
    "if b > 30:\n",
    "    print(\"yes b is greater then 30\")\n",
    "elif b > 20 and b < 30:\n",
    "    print(\"yes b is greater thern 20 but less then 30\")\n",
    "else:\n",
    "    print(\"no b is equal to 20\")"
   ]
  },
  {
   "cell_type": "code",
   "execution_count": 6,
   "id": "9155ccf6-abc7-4a95-958a-021d0f155760",
   "metadata": {},
   "outputs": [
    {
     "name": "stdin",
     "output_type": "stream",
     "text": [
      " 20\n"
     ]
    },
    {
     "data": {
      "text/plain": [
       "'20'"
      ]
     },
     "execution_count": 6,
     "metadata": {},
     "output_type": "execute_result"
    }
   ],
   "source": [
    "input()"
   ]
  },
  {
   "cell_type": "code",
   "execution_count": 7,
   "id": "bf70a3e4-01ea-466d-b479-86a856e1c685",
   "metadata": {},
   "outputs": [
    {
     "name": "stdin",
     "output_type": "stream",
     "text": [
      "Enter anything :  235\n"
     ]
    }
   ],
   "source": [
    "c = input(\"Enter anything : \")"
   ]
  },
  {
   "cell_type": "code",
   "execution_count": 8,
   "id": "03d5240b-d426-4da2-8011-b01efe22e032",
   "metadata": {},
   "outputs": [
    {
     "data": {
      "text/plain": [
       "str"
      ]
     },
     "execution_count": 8,
     "metadata": {},
     "output_type": "execute_result"
    }
   ],
   "source": [
    "type(c)"
   ]
  },
  {
   "cell_type": "code",
   "execution_count": 9,
   "id": "4c080edf-9db4-4cb2-80a3-f679c933afe5",
   "metadata": {},
   "outputs": [],
   "source": [
    "c = int(c)"
   ]
  },
  {
   "cell_type": "code",
   "execution_count": 10,
   "id": "28951119-7810-49fd-a9eb-eb462f57d00b",
   "metadata": {},
   "outputs": [
    {
     "data": {
      "text/plain": [
       "235"
      ]
     },
     "execution_count": 10,
     "metadata": {},
     "output_type": "execute_result"
    }
   ],
   "source": [
    "c"
   ]
  },
  {
   "cell_type": "code",
   "execution_count": 11,
   "id": "e7b1b78f-4636-4eb6-8c84-20fa406411b5",
   "metadata": {},
   "outputs": [
    {
     "data": {
      "text/plain": [
       "int"
      ]
     },
     "execution_count": 11,
     "metadata": {},
     "output_type": "execute_result"
    }
   ],
   "source": [
    "type(c)"
   ]
  },
  {
   "cell_type": "markdown",
   "id": "44d9dc94-c08b-484e-8aa1-4de7c2f56720",
   "metadata": {},
   "source": [
    "This is type casting"
   ]
  },
  {
   "cell_type": "code",
   "execution_count": 12,
   "id": "140ad2c3-27eb-469c-b89c-210780a4dba5",
   "metadata": {},
   "outputs": [
    {
     "name": "stdout",
     "output_type": "stream",
     "text": [
      "1\n",
      "2\n",
      "3\n",
      "4\n"
     ]
    }
   ],
   "source": [
    "n = 4\n",
    "i = 1\n",
    "while i <= n:\n",
    "    print(i)\n",
    "    i += 1"
   ]
  },
  {
   "cell_type": "code",
   "execution_count": 13,
   "id": "d60d2eda-7279-442c-a169-93866262f801",
   "metadata": {},
   "outputs": [
    {
     "name": "stdout",
     "output_type": "stream",
     "text": [
      "1\n",
      "2\n",
      "3\n",
      "4\n",
      "this is my else\n"
     ]
    }
   ],
   "source": [
    "n = 4\n",
    "i = 1\n",
    "while i <= n:\n",
    "    print(i)\n",
    "    i += 1\n",
    "else:\n",
    "    print(\"this is my else\")"
   ]
  },
  {
   "cell_type": "markdown",
   "id": "0fca9ab9-550d-4702-b9d7-7a4debcfcccd",
   "metadata": {},
   "source": [
    "when while is successfully completed then only else part will work or else not"
   ]
  },
  {
   "cell_type": "code",
   "execution_count": 14,
   "id": "fd8162df-d66b-4b41-abb4-ddcea9147d77",
   "metadata": {},
   "outputs": [
    {
     "name": "stdout",
     "output_type": "stream",
     "text": [
      "1\n",
      "2\n",
      "3\n"
     ]
    }
   ],
   "source": [
    "n = 4\n",
    "i = 1\n",
    "while i <= n:\n",
    "    print(i)\n",
    "    if i == 3:\n",
    "        break\n",
    "    i += 1\n",
    "else:\n",
    "    print(\"this is my else\")"
   ]
  },
  {
   "cell_type": "markdown",
   "id": "b36a6ec3-5f68-4dde-9e89-909746ae9418",
   "metadata": {},
   "source": [
    "now else want work because while is not completed it is forcefullt terminated"
   ]
  },
  {
   "cell_type": "code",
   "execution_count": 15,
   "id": "529da513-0846-43d1-a32e-4b6de67f3f70",
   "metadata": {},
   "outputs": [
    {
     "name": "stdout",
     "output_type": "stream",
     "text": [
      "v\n",
      "i\n",
      "s\n",
      "h\n",
      "m\n",
      "a\n",
      "y\n"
     ]
    }
   ],
   "source": [
    "x = \"vishmay\"\n",
    "for i in x:\n",
    "    print(i)"
   ]
  },
  {
   "cell_type": "code",
   "execution_count": 16,
   "id": "1b10ffe0-c924-43e5-88bd-4404ddd7149e",
   "metadata": {},
   "outputs": [],
   "source": [
    "l = [2,3,4,5,6,\"vcd\",False,4+5j]"
   ]
  },
  {
   "cell_type": "code",
   "execution_count": 17,
   "id": "bdfad303-5383-46b5-86aa-d43b2e71e081",
   "metadata": {},
   "outputs": [
    {
     "name": "stdout",
     "output_type": "stream",
     "text": [
      "<class 'int'>\n",
      "<class 'int'>\n",
      "<class 'int'>\n",
      "<class 'int'>\n",
      "<class 'int'>\n",
      "<class 'str'>\n",
      "<class 'bool'>\n",
      "<class 'complex'>\n"
     ]
    }
   ],
   "source": [
    "for i in l:\n",
    "    print(type(i))"
   ]
  },
  {
   "cell_type": "code",
   "execution_count": 18,
   "id": "a3f7ba4f-7c24-4a63-90db-a06ff72636cf",
   "metadata": {},
   "outputs": [
    {
     "name": "stdout",
     "output_type": "stream",
     "text": [
      "2\n",
      "3\n",
      "4\n",
      "5\n",
      "6\n",
      "vcd\n",
      "False\n",
      "(4+5j)\n",
      "this will be executed after successfull completion of for loop\n"
     ]
    }
   ],
   "source": [
    "for i in l:\n",
    "    print(i)\n",
    "else:\n",
    "    print(\"this will be executed after successfull completion of for loop\")"
   ]
  },
  {
   "cell_type": "code",
   "execution_count": 19,
   "id": "dd042c16-89ef-4150-8c77-4c3044d81141",
   "metadata": {},
   "outputs": [
    {
     "name": "stdout",
     "output_type": "stream",
     "text": [
      "2\n",
      "3\n",
      "4\n",
      "5\n",
      "vcd\n",
      "False\n",
      "(4+5j)\n",
      "this will be executed after successfull completion of for loop\n"
     ]
    }
   ],
   "source": [
    "for i in l:\n",
    "    if i == 6:\n",
    "        continue\n",
    "    print(i)\n",
    "else:\n",
    "    print(\"this will be executed after successfull completion of for loop\")"
   ]
  },
  {
   "cell_type": "code",
   "execution_count": 20,
   "id": "3460604f-75b0-413d-8817-ba26de95e31b",
   "metadata": {},
   "outputs": [
    {
     "data": {
      "text/plain": [
       "range(0, 10)"
      ]
     },
     "execution_count": 20,
     "metadata": {},
     "output_type": "execute_result"
    }
   ],
   "source": [
    "range(10)"
   ]
  },
  {
   "cell_type": "code",
   "execution_count": 21,
   "id": "7767b168-bfa6-47b3-a1ff-5d30f6579b8c",
   "metadata": {},
   "outputs": [],
   "source": [
    "s = list(range(10))"
   ]
  },
  {
   "cell_type": "code",
   "execution_count": 22,
   "id": "d908ddd3-bd7b-40c6-95ec-d41c59d50760",
   "metadata": {},
   "outputs": [
    {
     "data": {
      "text/plain": [
       "[0, 1, 2, 3, 4, 5, 6, 7, 8, 9]"
      ]
     },
     "execution_count": 22,
     "metadata": {},
     "output_type": "execute_result"
    }
   ],
   "source": [
    "s"
   ]
  },
  {
   "cell_type": "markdown",
   "id": "d04031d4-e12c-4c55-bbaf-6fbd70498284",
   "metadata": {},
   "source": [
    "It will generate from 0 to given number"
   ]
  },
  {
   "cell_type": "code",
   "execution_count": null,
   "id": "a77e5d8a-06c4-4335-9cad-90bc6d0184ae",
   "metadata": {},
   "outputs": [],
   "source": []
  }
 ],
 "metadata": {
  "kernelspec": {
   "display_name": "Python 3 (ipykernel)",
   "language": "python",
   "name": "python3"
  },
  "language_info": {
   "codemirror_mode": {
    "name": "ipython",
    "version": 3
   },
   "file_extension": ".py",
   "mimetype": "text/x-python",
   "name": "python",
   "nbconvert_exporter": "python",
   "pygments_lexer": "ipython3",
   "version": "3.10.8"
  }
 },
 "nbformat": 4,
 "nbformat_minor": 5
}
