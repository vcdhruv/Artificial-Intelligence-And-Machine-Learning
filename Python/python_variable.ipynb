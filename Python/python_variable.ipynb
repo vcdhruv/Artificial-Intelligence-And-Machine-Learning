{
 "cells": [
  {
   "cell_type": "code",
   "execution_count": 1,
   "id": "99c97903-0c64-48ec-852c-49a81224e168",
   "metadata": {},
   "outputs": [],
   "source": [
    "a = 1"
   ]
  },
  {
   "cell_type": "code",
   "execution_count": 2,
   "id": "35451daf-a259-4f48-a890-212acb88b315",
   "metadata": {},
   "outputs": [
    {
     "data": {
      "text/plain": [
       "1"
      ]
     },
     "execution_count": 2,
     "metadata": {},
     "output_type": "execute_result"
    }
   ],
   "source": [
    "a"
   ]
  },
  {
   "cell_type": "code",
   "execution_count": 3,
   "id": "bd123008-75cd-4436-80db-85e8a56c729f",
   "metadata": {},
   "outputs": [
    {
     "data": {
      "text/plain": [
       "int"
      ]
     },
     "execution_count": 3,
     "metadata": {},
     "output_type": "execute_result"
    }
   ],
   "source": [
    "type(a)"
   ]
  },
  {
   "cell_type": "code",
   "execution_count": 4,
   "id": "e21eff6a-5852-4ae3-aea4-aff7f995ed43",
   "metadata": {},
   "outputs": [],
   "source": [
    "b = \"vishmay\""
   ]
  },
  {
   "cell_type": "code",
   "execution_count": 5,
   "id": "c7125422-5e30-4fd8-b6e5-7e6ac704605f",
   "metadata": {},
   "outputs": [
    {
     "data": {
      "text/plain": [
       "str"
      ]
     },
     "execution_count": 5,
     "metadata": {},
     "output_type": "execute_result"
    }
   ],
   "source": [
    "type(b)"
   ]
  },
  {
   "cell_type": "code",
   "execution_count": 6,
   "id": "8050005f-e6ee-4bd1-9a15-9113e169a7ed",
   "metadata": {},
   "outputs": [],
   "source": [
    "c = 'vishmay'"
   ]
  },
  {
   "cell_type": "code",
   "execution_count": 7,
   "id": "95046851-55e9-4737-bb18-5d787bee867c",
   "metadata": {},
   "outputs": [
    {
     "data": {
      "text/plain": [
       "str"
      ]
     },
     "execution_count": 7,
     "metadata": {},
     "output_type": "execute_result"
    }
   ],
   "source": [
    "type(c)"
   ]
  },
  {
   "cell_type": "code",
   "execution_count": 8,
   "id": "e1a98de5-2315-49c6-bc4f-9d132682aff4",
   "metadata": {},
   "outputs": [],
   "source": [
    "d = 77.7777"
   ]
  },
  {
   "cell_type": "code",
   "execution_count": 9,
   "id": "18b1d382-423e-466f-aad8-f31b89be6140",
   "metadata": {},
   "outputs": [
    {
     "data": {
      "text/plain": [
       "float"
      ]
     },
     "execution_count": 9,
     "metadata": {},
     "output_type": "execute_result"
    }
   ],
   "source": [
    "type(d)"
   ]
  },
  {
   "cell_type": "code",
   "execution_count": 10,
   "id": "9231247a-cdab-4bbb-9578-70eda4fdf2a3",
   "metadata": {},
   "outputs": [],
   "source": [
    "e = True"
   ]
  },
  {
   "cell_type": "code",
   "execution_count": 11,
   "id": "d136d5cd-d3db-42da-811f-0af044e17825",
   "metadata": {},
   "outputs": [
    {
     "data": {
      "text/plain": [
       "bool"
      ]
     },
     "execution_count": 11,
     "metadata": {},
     "output_type": "execute_result"
    }
   ],
   "source": [
    "type(e)"
   ]
  },
  {
   "cell_type": "code",
   "execution_count": 12,
   "id": "b2a4e5ee-3582-44fe-9828-f7882fe9d4cb",
   "metadata": {},
   "outputs": [],
   "source": [
    "f = False"
   ]
  },
  {
   "cell_type": "code",
   "execution_count": 13,
   "id": "764437e0-da04-41a9-8f99-e28eee297bf7",
   "metadata": {},
   "outputs": [
    {
     "data": {
      "text/plain": [
       "bool"
      ]
     },
     "execution_count": 13,
     "metadata": {},
     "output_type": "execute_result"
    }
   ],
   "source": [
    "type(f)"
   ]
  },
  {
   "cell_type": "code",
   "execution_count": 14,
   "id": "4e458bb4-7dcd-4e9d-a6d5-89e683d6bace",
   "metadata": {},
   "outputs": [
    {
     "data": {
      "text/plain": [
       "1"
      ]
     },
     "execution_count": 14,
     "metadata": {},
     "output_type": "execute_result"
    }
   ],
   "source": [
    "True - False"
   ]
  },
  {
   "cell_type": "code",
   "execution_count": 15,
   "id": "5ada9798-2d5f-4601-8f07-09c9d86327e2",
   "metadata": {},
   "outputs": [
    {
     "data": {
      "text/plain": [
       "-1"
      ]
     },
     "execution_count": 15,
     "metadata": {},
     "output_type": "execute_result"
    }
   ],
   "source": [
    "False - True"
   ]
  },
  {
   "cell_type": "code",
   "execution_count": 16,
   "id": "cbe18a7f-e754-48e6-8e9f-12debaa65f56",
   "metadata": {},
   "outputs": [
    {
     "data": {
      "text/plain": [
       "0"
      ]
     },
     "execution_count": 16,
     "metadata": {},
     "output_type": "execute_result"
    }
   ],
   "source": [
    "True * False"
   ]
  },
  {
   "cell_type": "code",
   "execution_count": 17,
   "id": "23482363-e5ba-4c70-95de-35335ea1ad83",
   "metadata": {},
   "outputs": [
    {
     "ename": "ZeroDivisionError",
     "evalue": "division by zero",
     "output_type": "error",
     "traceback": [
      "\u001b[0;31m---------------------------------------------------------------------------\u001b[0m",
      "\u001b[0;31mZeroDivisionError\u001b[0m                         Traceback (most recent call last)",
      "Cell \u001b[0;32mIn[17], line 1\u001b[0m\n\u001b[0;32m----> 1\u001b[0m \u001b[38;5;28;43;01mTrue\u001b[39;49;00m\u001b[43m \u001b[49m\u001b[38;5;241;43m/\u001b[39;49m\u001b[43m \u001b[49m\u001b[38;5;28;43;01mFalse\u001b[39;49;00m\n",
      "\u001b[0;31mZeroDivisionError\u001b[0m: division by zero"
     ]
    }
   ],
   "source": [
    "True / False"
   ]
  },
  {
   "cell_type": "markdown",
   "id": "efdd2144-eaf0-4e32-8b1c-5a1454638e23",
   "metadata": {},
   "source": [
    "Anything divided by zero means infinity "
   ]
  },
  {
   "cell_type": "code",
   "execution_count": 19,
   "id": "ffb8a611-f0a9-4146-8321-4dbe83cb8830",
   "metadata": {},
   "outputs": [],
   "source": [
    "g = 4 + 5j"
   ]
  },
  {
   "cell_type": "code",
   "execution_count": 20,
   "id": "2d8cd891-239f-4ae0-9186-67cf74897c4a",
   "metadata": {},
   "outputs": [
    {
     "data": {
      "text/plain": [
       "complex"
      ]
     },
     "execution_count": 20,
     "metadata": {},
     "output_type": "execute_result"
    }
   ],
   "source": [
    "type(g)"
   ]
  },
  {
   "cell_type": "code",
   "execution_count": 21,
   "id": "0f36ad76-c166-41bb-92e1-8158a07bc063",
   "metadata": {},
   "outputs": [
    {
     "ename": "SyntaxError",
     "evalue": "invalid decimal literal (3559271661.py, line 1)",
     "output_type": "error",
     "traceback": [
      "\u001b[0;36m  Cell \u001b[0;32mIn[21], line 1\u001b[0;36m\u001b[0m\n\u001b[0;31m    h = 3 + 2i\u001b[0m\n\u001b[0m            ^\u001b[0m\n\u001b[0;31mSyntaxError\u001b[0m\u001b[0;31m:\u001b[0m invalid decimal literal\n"
     ]
    }
   ],
   "source": [
    "h = 3 + 2i"
   ]
  },
  {
   "cell_type": "markdown",
   "id": "c64aa0bc-4461-4a1e-b4e0-ead731ab3097",
   "metadata": {},
   "source": [
    "Anything except j will not be accepted"
   ]
  },
  {
   "cell_type": "code",
   "execution_count": 22,
   "id": "f0742053-3f27-45b8-9bf0-9911ee040c30",
   "metadata": {},
   "outputs": [],
   "source": [
    "i = 7j"
   ]
  },
  {
   "cell_type": "code",
   "execution_count": 23,
   "id": "8ef97a42-bfad-4a27-a36f-95297abacfdb",
   "metadata": {},
   "outputs": [
    {
     "data": {
      "text/plain": [
       "complex"
      ]
     },
     "execution_count": 23,
     "metadata": {},
     "output_type": "execute_result"
    }
   ],
   "source": [
    "type(i)"
   ]
  },
  {
   "cell_type": "code",
   "execution_count": 24,
   "id": "b02a1e5a-fa04-4eae-9f7a-60d49fc4f188",
   "metadata": {},
   "outputs": [],
   "source": [
    "_abcd = 77"
   ]
  },
  {
   "cell_type": "code",
   "execution_count": 25,
   "id": "c2c8c2b4-5da8-436c-ae24-d9bced455cac",
   "metadata": {},
   "outputs": [
    {
     "data": {
      "text/plain": [
       "77"
      ]
     },
     "execution_count": 25,
     "metadata": {},
     "output_type": "execute_result"
    }
   ],
   "source": [
    "_abcd"
   ]
  },
  {
   "cell_type": "code",
   "execution_count": 26,
   "id": "4e03a035-5205-48a0-9de9-75b00794e375",
   "metadata": {},
   "outputs": [
    {
     "data": {
      "text/plain": [
       "False"
      ]
     },
     "execution_count": 26,
     "metadata": {},
     "output_type": "execute_result"
    }
   ],
   "source": [
    "f"
   ]
  },
  {
   "cell_type": "code",
   "execution_count": 27,
   "id": "b17798e0-50eb-4e58-a534-14fdd7932f7b",
   "metadata": {},
   "outputs": [
    {
     "data": {
      "text/plain": [
       "(4+5j)"
      ]
     },
     "execution_count": 27,
     "metadata": {},
     "output_type": "execute_result"
    }
   ],
   "source": [
    "g"
   ]
  },
  {
   "cell_type": "code",
   "execution_count": null,
   "id": "b48e5899-0124-41c4-955b-58dbd344a2ab",
   "metadata": {},
   "outputs": [],
   "source": [
    "g."
   ]
  }
 ],
 "metadata": {
  "kernelspec": {
   "display_name": "Python 3 (ipykernel)",
   "language": "python",
   "name": "python3"
  },
  "language_info": {
   "codemirror_mode": {
    "name": "ipython",
    "version": 3
   },
   "file_extension": ".py",
   "mimetype": "text/x-python",
   "name": "python",
   "nbconvert_exporter": "python",
   "pygments_lexer": "ipython3",
   "version": "3.10.8"
  }
 },
 "nbformat": 4,
 "nbformat_minor": 5
}
